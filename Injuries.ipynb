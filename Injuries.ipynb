{
 "cells": [
  {
   "cell_type": "markdown",
   "id": "68810d3b",
   "metadata": {},
   "source": [
    "Info"
   ]
  },
  {
   "cell_type": "markdown",
   "id": "82dda651",
   "metadata": {},
   "source": [
    "# Step 0: Import Lib"
   ]
  },
  {
   "cell_type": "code",
   "execution_count": 1,
   "id": "bef2fa27",
   "metadata": {},
   "outputs": [
    {
     "name": "stdout",
     "output_type": "stream",
     "text": [
      "Populating the interactive namespace from numpy and matplotlib\n"
     ]
    }
   ],
   "source": [
    "import pandas as pd\n",
    "import numpy as np\n",
    "\n",
    "import matplotlib.pyplot as plt\n",
    "import seaborn as sns\n",
    "from sklearn.datasets import fetch_california_housing\n",
    "from sklearn.datasets import load_breast_cancer\n",
    "from sklearn.metrics import accuracy_score\n",
    "\n",
    "%pylab inline"
   ]
  },
  {
   "cell_type": "markdown",
   "id": "6ab6697a",
   "metadata": {},
   "source": [
    "# Step 1: Load Data"
   ]
  },
  {
   "cell_type": "code",
   "execution_count": 8,
   "id": "49bcc96a",
   "metadata": {},
   "outputs": [],
   "source": [
    "df = pd.read_csv('Sesstion.csv')"
   ]
  },
  {
   "cell_type": "code",
   "execution_count": 25,
   "id": "12a7d9a3",
   "metadata": {},
   "outputs": [
    {
     "data": {
      "text/html": [
       "<div>\n",
       "<style scoped>\n",
       "    .dataframe tbody tr th:only-of-type {\n",
       "        vertical-align: middle;\n",
       "    }\n",
       "\n",
       "    .dataframe tbody tr th {\n",
       "        vertical-align: top;\n",
       "    }\n",
       "\n",
       "    .dataframe thead th {\n",
       "        text-align: right;\n",
       "    }\n",
       "</style>\n",
       "<table border=\"1\" class=\"dataframe\">\n",
       "  <thead>\n",
       "    <tr style=\"text-align: right;\">\n",
       "      <th></th>\n",
       "      <th>nr_sessions</th>\n",
       "      <th>total_km</th>\n",
       "      <th>km_z3_4</th>\n",
       "      <th>km_z5_t1_t2</th>\n",
       "      <th>km_sprinting</th>\n",
       "      <th>strength_training</th>\n",
       "      <th>hours_alternative</th>\n",
       "      <th>perceived_exertion</th>\n",
       "      <th>perceived_trainingsuccess</th>\n",
       "      <th>perceived_recovery</th>\n",
       "      <th>athlete_id</th>\n",
       "      <th>injury</th>\n",
       "      <th>date</th>\n",
       "    </tr>\n",
       "  </thead>\n",
       "  <tbody>\n",
       "    <tr>\n",
       "      <th>0</th>\n",
       "      <td>1</td>\n",
       "      <td>5.8</td>\n",
       "      <td>0.0</td>\n",
       "      <td>0.6</td>\n",
       "      <td>1.2</td>\n",
       "      <td>0</td>\n",
       "      <td>0.00</td>\n",
       "      <td>0.11</td>\n",
       "      <td>0.00</td>\n",
       "      <td>0.18</td>\n",
       "      <td>0</td>\n",
       "      <td>0</td>\n",
       "      <td>0</td>\n",
       "    </tr>\n",
       "    <tr>\n",
       "      <th>1</th>\n",
       "      <td>0</td>\n",
       "      <td>0.0</td>\n",
       "      <td>0.0</td>\n",
       "      <td>0.0</td>\n",
       "      <td>0.0</td>\n",
       "      <td>0</td>\n",
       "      <td>0.00</td>\n",
       "      <td>-0.01</td>\n",
       "      <td>-0.01</td>\n",
       "      <td>-0.01</td>\n",
       "      <td>0</td>\n",
       "      <td>0</td>\n",
       "      <td>1</td>\n",
       "    </tr>\n",
       "    <tr>\n",
       "      <th>2</th>\n",
       "      <td>1</td>\n",
       "      <td>0.0</td>\n",
       "      <td>0.0</td>\n",
       "      <td>0.0</td>\n",
       "      <td>0.0</td>\n",
       "      <td>1</td>\n",
       "      <td>0.00</td>\n",
       "      <td>0.10</td>\n",
       "      <td>0.00</td>\n",
       "      <td>0.17</td>\n",
       "      <td>0</td>\n",
       "      <td>0</td>\n",
       "      <td>2</td>\n",
       "    </tr>\n",
       "    <tr>\n",
       "      <th>3</th>\n",
       "      <td>0</td>\n",
       "      <td>0.0</td>\n",
       "      <td>0.0</td>\n",
       "      <td>0.0</td>\n",
       "      <td>0.0</td>\n",
       "      <td>0</td>\n",
       "      <td>0.00</td>\n",
       "      <td>-0.01</td>\n",
       "      <td>-0.01</td>\n",
       "      <td>-0.01</td>\n",
       "      <td>0</td>\n",
       "      <td>0</td>\n",
       "      <td>3</td>\n",
       "    </tr>\n",
       "    <tr>\n",
       "      <th>4</th>\n",
       "      <td>1</td>\n",
       "      <td>0.0</td>\n",
       "      <td>0.0</td>\n",
       "      <td>0.0</td>\n",
       "      <td>0.0</td>\n",
       "      <td>0</td>\n",
       "      <td>1.08</td>\n",
       "      <td>0.08</td>\n",
       "      <td>0.00</td>\n",
       "      <td>0.18</td>\n",
       "      <td>0</td>\n",
       "      <td>0</td>\n",
       "      <td>4</td>\n",
       "    </tr>\n",
       "  </tbody>\n",
       "</table>\n",
       "</div>"
      ],
      "text/plain": [
       "   nr_sessions  total_km  km_z3_4  km_z5_t1_t2  km_sprinting  \\\n",
       "0            1       5.8      0.0          0.6           1.2   \n",
       "1            0       0.0      0.0          0.0           0.0   \n",
       "2            1       0.0      0.0          0.0           0.0   \n",
       "3            0       0.0      0.0          0.0           0.0   \n",
       "4            1       0.0      0.0          0.0           0.0   \n",
       "\n",
       "   strength_training  hours_alternative  perceived_exertion  \\\n",
       "0                  0               0.00                0.11   \n",
       "1                  0               0.00               -0.01   \n",
       "2                  1               0.00                0.10   \n",
       "3                  0               0.00               -0.01   \n",
       "4                  0               1.08                0.08   \n",
       "\n",
       "   perceived_trainingsuccess  perceived_recovery  athlete_id  injury  date  \n",
       "0                       0.00                0.18           0       0     0  \n",
       "1                      -0.01               -0.01           0       0     1  \n",
       "2                       0.00                0.17           0       0     2  \n",
       "3                      -0.01               -0.01           0       0     3  \n",
       "4                       0.00                0.18           0       0     4  "
      ]
     },
     "execution_count": 25,
     "metadata": {},
     "output_type": "execute_result"
    }
   ],
   "source": [
    "df.head()\n",
    "#df.columns"
   ]
  },
  {
   "cell_type": "markdown",
   "id": "c8f8ec93",
   "metadata": {},
   "source": [
    "# Step 2: Cleaning Data"
   ]
  },
  {
   "cell_type": "markdown",
   "id": "33a3794b",
   "metadata": {},
   "source": [
    "#####          A. Columns\n",
    "1. Relace column it have the \".\" with \"_\" \n",
    "2. Relace column it have the \" \" with \"_\" \n",
    "3. Relace column it have the \"-\" with \"_\" \n",
    "4. Lower Case"
   ]
  },
  {
   "cell_type": "code",
   "execution_count": 24,
   "id": "2b219b5e",
   "metadata": {},
   "outputs": [
    {
     "name": "stderr",
     "output_type": "stream",
     "text": [
      "/tmp/ipykernel_148583/3642270442.py:1: FutureWarning: The default value of regex will change from True to False in a future version. In addition, single character regular expressions will *not* be treated as literal strings when regex=True.\n",
      "  df.columns = df.columns.str.replace( '.', '' ).str.replace( '/', '_' ).str.replace( '-', '_' ).str.replace( ' ', '_' ).str.lower().str.strip()\n"
     ]
    }
   ],
   "source": [
    "df.columns = df.columns.str.replace( '.', '' ).str.replace( '/', '_' ).str.replace( '-', '_' ).str.replace( ' ', '_' ).str.lower().str.strip()"
   ]
  },
  {
   "cell_type": "code",
   "execution_count": 26,
   "id": "3bacb704",
   "metadata": {},
   "outputs": [
    {
     "data": {
      "text/html": [
       "<div>\n",
       "<style scoped>\n",
       "    .dataframe tbody tr th:only-of-type {\n",
       "        vertical-align: middle;\n",
       "    }\n",
       "\n",
       "    .dataframe tbody tr th {\n",
       "        vertical-align: top;\n",
       "    }\n",
       "\n",
       "    .dataframe thead th {\n",
       "        text-align: right;\n",
       "    }\n",
       "</style>\n",
       "<table border=\"1\" class=\"dataframe\">\n",
       "  <thead>\n",
       "    <tr style=\"text-align: right;\">\n",
       "      <th></th>\n",
       "      <th>nr_sessions</th>\n",
       "      <th>total_km</th>\n",
       "      <th>km_z3_4</th>\n",
       "      <th>km_z5_t1_t2</th>\n",
       "      <th>km_sprinting</th>\n",
       "      <th>strength_training</th>\n",
       "      <th>hours_alternative</th>\n",
       "      <th>perceived_exertion</th>\n",
       "      <th>perceived_trainingsuccess</th>\n",
       "      <th>perceived_recovery</th>\n",
       "      <th>athlete_id</th>\n",
       "      <th>injury</th>\n",
       "      <th>date</th>\n",
       "    </tr>\n",
       "  </thead>\n",
       "  <tbody>\n",
       "    <tr>\n",
       "      <th>0</th>\n",
       "      <td>1</td>\n",
       "      <td>5.8</td>\n",
       "      <td>0.0</td>\n",
       "      <td>0.6</td>\n",
       "      <td>1.2</td>\n",
       "      <td>0</td>\n",
       "      <td>0.00</td>\n",
       "      <td>0.11</td>\n",
       "      <td>0.00</td>\n",
       "      <td>0.18</td>\n",
       "      <td>0</td>\n",
       "      <td>0</td>\n",
       "      <td>0</td>\n",
       "    </tr>\n",
       "    <tr>\n",
       "      <th>1</th>\n",
       "      <td>0</td>\n",
       "      <td>0.0</td>\n",
       "      <td>0.0</td>\n",
       "      <td>0.0</td>\n",
       "      <td>0.0</td>\n",
       "      <td>0</td>\n",
       "      <td>0.00</td>\n",
       "      <td>-0.01</td>\n",
       "      <td>-0.01</td>\n",
       "      <td>-0.01</td>\n",
       "      <td>0</td>\n",
       "      <td>0</td>\n",
       "      <td>1</td>\n",
       "    </tr>\n",
       "    <tr>\n",
       "      <th>2</th>\n",
       "      <td>1</td>\n",
       "      <td>0.0</td>\n",
       "      <td>0.0</td>\n",
       "      <td>0.0</td>\n",
       "      <td>0.0</td>\n",
       "      <td>1</td>\n",
       "      <td>0.00</td>\n",
       "      <td>0.10</td>\n",
       "      <td>0.00</td>\n",
       "      <td>0.17</td>\n",
       "      <td>0</td>\n",
       "      <td>0</td>\n",
       "      <td>2</td>\n",
       "    </tr>\n",
       "    <tr>\n",
       "      <th>3</th>\n",
       "      <td>0</td>\n",
       "      <td>0.0</td>\n",
       "      <td>0.0</td>\n",
       "      <td>0.0</td>\n",
       "      <td>0.0</td>\n",
       "      <td>0</td>\n",
       "      <td>0.00</td>\n",
       "      <td>-0.01</td>\n",
       "      <td>-0.01</td>\n",
       "      <td>-0.01</td>\n",
       "      <td>0</td>\n",
       "      <td>0</td>\n",
       "      <td>3</td>\n",
       "    </tr>\n",
       "    <tr>\n",
       "      <th>4</th>\n",
       "      <td>1</td>\n",
       "      <td>0.0</td>\n",
       "      <td>0.0</td>\n",
       "      <td>0.0</td>\n",
       "      <td>0.0</td>\n",
       "      <td>0</td>\n",
       "      <td>1.08</td>\n",
       "      <td>0.08</td>\n",
       "      <td>0.00</td>\n",
       "      <td>0.18</td>\n",
       "      <td>0</td>\n",
       "      <td>0</td>\n",
       "      <td>4</td>\n",
       "    </tr>\n",
       "  </tbody>\n",
       "</table>\n",
       "</div>"
      ],
      "text/plain": [
       "   nr_sessions  total_km  km_z3_4  km_z5_t1_t2  km_sprinting  \\\n",
       "0            1       5.8      0.0          0.6           1.2   \n",
       "1            0       0.0      0.0          0.0           0.0   \n",
       "2            1       0.0      0.0          0.0           0.0   \n",
       "3            0       0.0      0.0          0.0           0.0   \n",
       "4            1       0.0      0.0          0.0           0.0   \n",
       "\n",
       "   strength_training  hours_alternative  perceived_exertion  \\\n",
       "0                  0               0.00                0.11   \n",
       "1                  0               0.00               -0.01   \n",
       "2                  1               0.00                0.10   \n",
       "3                  0               0.00               -0.01   \n",
       "4                  0               1.08                0.08   \n",
       "\n",
       "   perceived_trainingsuccess  perceived_recovery  athlete_id  injury  date  \n",
       "0                       0.00                0.18           0       0     0  \n",
       "1                      -0.01               -0.01           0       0     1  \n",
       "2                       0.00                0.17           0       0     2  \n",
       "3                      -0.01               -0.01           0       0     3  \n",
       "4                       0.00                0.18           0       0     4  "
      ]
     },
     "execution_count": 26,
     "metadata": {},
     "output_type": "execute_result"
    }
   ],
   "source": [
    "df.head()"
   ]
  },
  {
   "cell_type": "markdown",
   "id": "0804d247",
   "metadata": {},
   "source": [
    "#### B. Row (Cells)\n",
    "1. There is No Null value in first view\n",
    "2. When I check the type of data is compatible with columns\n",
    "3. T"
   ]
  },
  {
   "cell_type": "markdown",
   "id": "eb4a9bf2",
   "metadata": {},
   "source": [
    "### I Dont use str.replace to my dataset becuse all Data is not Object only Intger and Float"
   ]
  },
  {
   "cell_type": "code",
   "execution_count": 30,
   "id": "1833027e",
   "metadata": {},
   "outputs": [
    {
     "data": {
      "text/plain": [
       "nr_sessions                  0\n",
       "total_km                     0\n",
       "km_z3_4                      0\n",
       "km_z5_t1_t2                  0\n",
       "km_sprinting                 0\n",
       "strength_training            0\n",
       "hours_alternative            0\n",
       "perceived_exertion           0\n",
       "perceived_trainingsuccess    0\n",
       "perceived_recovery           0\n",
       "athlete_id                   0\n",
       "injury                       0\n",
       "date                         0\n",
       "dtype: int64"
      ]
     },
     "execution_count": 30,
     "metadata": {},
     "output_type": "execute_result"
    }
   ],
   "source": [
    "df.isna().sum()"
   ]
  },
  {
   "cell_type": "code",
   "execution_count": 28,
   "id": "6a4d444f",
   "metadata": {},
   "outputs": [
    {
     "data": {
      "text/plain": [
       "nr_sessions                    int64\n",
       "total_km                     float64\n",
       "km_z3_4                      float64\n",
       "km_z5_t1_t2                  float64\n",
       "km_sprinting                 float64\n",
       "strength_training              int64\n",
       "hours_alternative            float64\n",
       "perceived_exertion           float64\n",
       "perceived_trainingsuccess    float64\n",
       "perceived_recovery           float64\n",
       "athlete_id                     int64\n",
       "injury                         int64\n",
       "date                           int64\n",
       "dtype: object"
      ]
     },
     "execution_count": 28,
     "metadata": {},
     "output_type": "execute_result"
    }
   ],
   "source": [
    "df.dtypes"
   ]
  },
  {
   "cell_type": "code",
   "execution_count": 31,
   "id": "7255da05",
   "metadata": {},
   "outputs": [
    {
     "name": "stdout",
     "output_type": "stream",
     "text": [
      "<class 'pandas.core.frame.DataFrame'>\n",
      "RangeIndex: 42766 entries, 0 to 42765\n",
      "Data columns (total 13 columns):\n",
      " #   Column                     Non-Null Count  Dtype  \n",
      "---  ------                     --------------  -----  \n",
      " 0   nr_sessions                42766 non-null  int64  \n",
      " 1   total_km                   42766 non-null  float64\n",
      " 2   km_z3_4                    42766 non-null  float64\n",
      " 3   km_z5_t1_t2                42766 non-null  float64\n",
      " 4   km_sprinting               42766 non-null  float64\n",
      " 5   strength_training          42766 non-null  int64  \n",
      " 6   hours_alternative          42766 non-null  float64\n",
      " 7   perceived_exertion         42766 non-null  float64\n",
      " 8   perceived_trainingsuccess  42766 non-null  float64\n",
      " 9   perceived_recovery         42766 non-null  float64\n",
      " 10  athlete_id                 42766 non-null  int64  \n",
      " 11  injury                     42766 non-null  int64  \n",
      " 12  date                       42766 non-null  int64  \n",
      "dtypes: float64(8), int64(5)\n",
      "memory usage: 4.2 MB\n"
     ]
    }
   ],
   "source": [
    "df.info()"
   ]
  },
  {
   "cell_type": "code",
   "execution_count": 32,
   "id": "e2cdcae5",
   "metadata": {},
   "outputs": [
    {
     "data": {
      "text/plain": [
       "0"
      ]
     },
     "execution_count": 32,
     "metadata": {},
     "output_type": "execute_result"
    }
   ],
   "source": [
    "df.duplicated().sum()"
   ]
  },
  {
   "cell_type": "markdown",
   "id": "4a4484e9",
   "metadata": {},
   "source": [
    "# Setp 3: EDA"
   ]
  },
  {
   "cell_type": "markdown",
   "id": "e3e1e601",
   "metadata": {},
   "source": [
    "### The Target will by <font color='blue'>injury</font>"
   ]
  },
  {
   "cell_type": "code",
   "execution_count": 35,
   "id": "47e32c34",
   "metadata": {},
   "outputs": [
    {
     "data": {
      "image/png": "[encoded data removed]",
      "text/plain": [
       "<Figure size 432x288 with 1 Axes>"
      ]
     },
     "metadata": {},
     "output_type": "display_data"
    }
   ],
   "source": [
    "sns.set_style('darkgrid')\n",
    "sns.countplot( y = 'injury', data = df, palette = 'Pastel1' );"
   ]
  },
  {
   "cell_type": "code",
   "execution_count": 38,
   "id": "4a93fb33",
   "metadata": {},
   "outputs": [
    {
     "data": {
      "text/html": [
       "<div>\n",
       "<style scoped>\n",
       "    .dataframe tbody tr th:only-of-type {\n",
       "        vertical-align: middle;\n",
       "    }\n",
       "\n",
       "    .dataframe tbody tr th {\n",
       "        vertical-align: top;\n",
       "    }\n",
       "\n",
       "    .dataframe thead th {\n",
       "        text-align: right;\n",
       "    }\n",
       "</style>\n",
       "<table border=\"1\" class=\"dataframe\">\n",
       "  <thead>\n",
       "    <tr style=\"text-align: right;\">\n",
       "      <th></th>\n",
       "      <th>nr_sessions</th>\n",
       "      <th>total_km</th>\n",
       "      <th>km_z3_4</th>\n",
       "      <th>km_z5_t1_t2</th>\n",
       "      <th>km_sprinting</th>\n",
       "      <th>strength_training</th>\n",
       "      <th>hours_alternative</th>\n",
       "      <th>perceived_exertion</th>\n",
       "      <th>perceived_trainingsuccess</th>\n",
       "      <th>perceived_recovery</th>\n",
       "      <th>athlete_id</th>\n",
       "      <th>injury</th>\n",
       "      <th>date</th>\n",
       "    </tr>\n",
       "  </thead>\n",
       "  <tbody>\n",
       "    <tr>\n",
       "      <th>count</th>\n",
       "      <td>42766.000000</td>\n",
       "      <td>42766.000000</td>\n",
       "      <td>42766.000000</td>\n",
       "      <td>42766.000000</td>\n",
       "      <td>42766.000000</td>\n",
       "      <td>42766.000000</td>\n",
       "      <td>42766.000000</td>\n",
       "      <td>42766.000000</td>\n",
       "      <td>42766.000000</td>\n",
       "      <td>42766.000000</td>\n",
       "      <td>42766.000000</td>\n",
       "      <td>42766.000000</td>\n",
       "      <td>42766.000000</td>\n",
       "    </tr>\n",
       "    <tr>\n",
       "      <th>mean</th>\n",
       "      <td>0.829561</td>\n",
       "      <td>7.038187</td>\n",
       "      <td>0.691381</td>\n",
       "      <td>0.579930</td>\n",
       "      <td>0.073016</td>\n",
       "      <td>0.116237</td>\n",
       "      <td>0.163492</td>\n",
       "      <td>0.247788</td>\n",
       "      <td>0.349802</td>\n",
       "      <td>0.195898</td>\n",
       "      <td>34.550858</td>\n",
       "      <td>0.013632</td>\n",
       "      <td>1228.039892</td>\n",
       "    </tr>\n",
       "    <tr>\n",
       "      <th>std</th>\n",
       "      <td>0.580696</td>\n",
       "      <td>7.473216</td>\n",
       "      <td>2.317657</td>\n",
       "      <td>1.811938</td>\n",
       "      <td>0.483480</td>\n",
       "      <td>0.326010</td>\n",
       "      <td>0.549664</td>\n",
       "      <td>0.257262</td>\n",
       "      <td>0.368300</td>\n",
       "      <td>0.190321</td>\n",
       "      <td>19.050033</td>\n",
       "      <td>0.115960</td>\n",
       "      <td>807.021168</td>\n",
       "    </tr>\n",
       "    <tr>\n",
       "      <th>min</th>\n",
       "      <td>0.000000</td>\n",
       "      <td>0.000000</td>\n",
       "      <td>0.000000</td>\n",
       "      <td>0.000000</td>\n",
       "      <td>0.000000</td>\n",
       "      <td>0.000000</td>\n",
       "      <td>0.000000</td>\n",
       "      <td>-0.010000</td>\n",
       "      <td>-0.010000</td>\n",
       "      <td>-0.010000</td>\n",
       "      <td>0.000000</td>\n",
       "      <td>0.000000</td>\n",
       "      <td>0.000000</td>\n",
       "    </tr>\n",
       "    <tr>\n",
       "      <th>25%</th>\n",
       "      <td>0.000000</td>\n",
       "      <td>0.000000</td>\n",
       "      <td>0.000000</td>\n",
       "      <td>0.000000</td>\n",
       "      <td>0.000000</td>\n",
       "      <td>0.000000</td>\n",
       "      <td>0.000000</td>\n",
       "      <td>-0.010000</td>\n",
       "      <td>-0.010000</td>\n",
       "      <td>-0.010000</td>\n",
       "      <td>20.000000</td>\n",
       "      <td>0.000000</td>\n",
       "      <td>436.000000</td>\n",
       "    </tr>\n",
       "    <tr>\n",
       "      <th>50%</th>\n",
       "      <td>1.000000</td>\n",
       "      <td>6.000000</td>\n",
       "      <td>0.000000</td>\n",
       "      <td>0.000000</td>\n",
       "      <td>0.000000</td>\n",
       "      <td>0.000000</td>\n",
       "      <td>0.000000</td>\n",
       "      <td>0.160000</td>\n",
       "      <td>0.260000</td>\n",
       "      <td>0.160000</td>\n",
       "      <td>34.000000</td>\n",
       "      <td>0.000000</td>\n",
       "      <td>1256.000000</td>\n",
       "    </tr>\n",
       "    <tr>\n",
       "      <th>75%</th>\n",
       "      <td>1.000000</td>\n",
       "      <td>12.000000</td>\n",
       "      <td>0.000000</td>\n",
       "      <td>0.000000</td>\n",
       "      <td>0.000000</td>\n",
       "      <td>0.000000</td>\n",
       "      <td>0.000000</td>\n",
       "      <td>0.440000</td>\n",
       "      <td>0.720000</td>\n",
       "      <td>0.300000</td>\n",
       "      <td>50.000000</td>\n",
       "      <td>0.000000</td>\n",
       "      <td>1913.000000</td>\n",
       "    </tr>\n",
       "    <tr>\n",
       "      <th>max</th>\n",
       "      <td>2.000000</td>\n",
       "      <td>55.900000</td>\n",
       "      <td>42.200000</td>\n",
       "      <td>48.000000</td>\n",
       "      <td>40.000000</td>\n",
       "      <td>2.000000</td>\n",
       "      <td>10.220000</td>\n",
       "      <td>1.000000</td>\n",
       "      <td>1.000000</td>\n",
       "      <td>1.000000</td>\n",
       "      <td>73.000000</td>\n",
       "      <td>1.000000</td>\n",
       "      <td>2673.000000</td>\n",
       "    </tr>\n",
       "  </tbody>\n",
       "</table>\n",
       "</div>"
      ],
      "text/plain": [
       "        nr_sessions      total_km       km_z3_4   km_z5_t1_t2  km_sprinting  \\\n",
       "count  42766.000000  42766.000000  42766.000000  42766.000000  42766.000000   \n",
       "mean       0.829561      7.038187      0.691381      0.579930      0.073016   \n",
       "std        0.580696      7.473216      2.317657      1.811938      0.483480   \n",
       "min        0.000000      0.000000      0.000000      0.000000      0.000000   \n",
       "25%        0.000000      0.000000      0.000000      0.000000      0.000000   \n",
       "50%        1.000000      6.000000      0.000000      0.000000      0.000000   \n",
       "75%        1.000000     12.000000      0.000000      0.000000      0.000000   \n",
       "max        2.000000     55.900000     42.200000     48.000000     40.000000   \n",
       "\n",
       "       strength_training  hours_alternative  perceived_exertion  \\\n",
       "count       42766.000000       42766.000000        42766.000000   \n",
       "mean            0.116237           0.163492            0.247788   \n",
       "std             0.326010           0.549664            0.257262   \n",
       "min             0.000000           0.000000           -0.010000   \n",
       "25%             0.000000           0.000000           -0.010000   \n",
       "50%             0.000000           0.000000            0.160000   \n",
       "75%             0.000000           0.000000            0.440000   \n",
       "max             2.000000          10.220000            1.000000   \n",
       "\n",
       "       perceived_trainingsuccess  perceived_recovery    athlete_id  \\\n",
       "count               42766.000000        42766.000000  42766.000000   \n",
       "mean                    0.349802            0.195898     34.550858   \n",
       "std                     0.368300            0.190321     19.050033   \n",
       "min                    -0.010000           -0.010000      0.000000   \n",
       "25%                    -0.010000           -0.010000     20.000000   \n",
       "50%                     0.260000            0.160000     34.000000   \n",
       "75%                     0.720000            0.300000     50.000000   \n",
       "max                     1.000000            1.000000     73.000000   \n",
       "\n",
       "             injury          date  \n",
       "count  42766.000000  42766.000000  \n",
       "mean       0.013632   1228.039892  \n",
       "std        0.115960    807.021168  \n",
       "min        0.000000      0.000000  \n",
       "25%        0.000000    436.000000  \n",
       "50%        0.000000   1256.000000  \n",
       "75%        0.000000   1913.000000  \n",
       "max        1.000000   2673.000000  "
      ]
     },
     "execution_count": 38,
     "metadata": {},
     "output_type": "execute_result"
    }
   ],
   "source": [
    "df.describe()"
   ]
  },
  {
   "cell_type": "code",
   "execution_count": 41,
   "id": "d4fd9f51",
   "metadata": {},
   "outputs": [
    {
     "data": {
      "text/plain": [
       "count    42766.000000\n",
       "mean         0.013632\n",
       "std          0.115960\n",
       "min          0.000000\n",
       "25%          0.000000\n",
       "50%          0.000000\n",
       "75%          0.000000\n",
       "max          1.000000\n",
       "Name: injury, dtype: float64"
      ]
     },
     "execution_count": 41,
     "metadata": {},
     "output_type": "execute_result"
    }
   ],
   "source": [
    "df.injury.describe()"
   ]
  },
  {
   "cell_type": "code",
   "execution_count": null,
   "id": "08711cf9",
   "metadata": {},
   "outputs": [],
   "source": [
    "Based on your case\n",
    "df.groupby('injury').size().reset_index().sort_values( by = 'injury').rename( columns = { '0': 'count' })"
   ]
  }
 ],
 "metadata": {
  "kernelspec": {
   "display_name": "Python 3 (ipykernel)",
   "language": "python",
   "name": "python3"
  },
  "language_info": {
   "codemirror_mode": {
    "name": "ipython",
    "version": 3
   },
   "file_extension": ".py",
   "mimetype": "text/x-python",
   "name": "python",
   "nbconvert_exporter": "python",
   "pygments_lexer": "ipython3",
   "version": "3.9.7"
  }
 },
 "nbformat": 4,
 "nbformat_minor": 5
}
